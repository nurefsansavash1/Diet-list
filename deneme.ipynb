{
 "cells": [
  {
   "cell_type": "code",
   "execution_count": 3,
   "metadata": {},
   "outputs": [
    {
     "name": "stdout",
     "output_type": "stream",
     "text": [
      "n s adlı kullanıcının VKİ değeri: 18.73\n",
      "Sınıfı: Normal kilolu\n",
      "Günlük alması gereken kalori miktarı: 2500\n"
     ]
    }
   ],
   "source": [
    "class Kullanici:\n",
    "    def __init__(self, isim, yas, boy, kilo):\n",
    "        self.isim = isim\n",
    "        self.yas = yas\n",
    "        self.boy = boy\n",
    "        self.kilo = kilo\n",
    "        self.vki = kilo / (boy ** 2)\n",
    "        self.kategori = self.hesapla_kategori()\n",
    "        self.günlük_kalori = self.hesapla_günlük_kalori()\n",
    "\n",
    "    def hesapla_kategori(self):\n",
    "        if self.vki < 18.5:\n",
    "            return \"Zayıf\"\n",
    "        elif self.vki < 25:\n",
    "            return \"Normal kilolu\"\n",
    "        elif self.vki < 30:\n",
    "            return \"Fazla kilolu\"\n",
    "        elif self.vki < 40:\n",
    "            return \"Obez\"\n",
    "        else:\n",
    "            return \"İleri derecede obez\"\n",
    "\n",
    "    def hesapla_günlük_kalori(self):\n",
    "        if self.vki < 18.5:\n",
    "            return 3000\n",
    "        elif self.vki < 25:\n",
    "            return 2500\n",
    "        elif self.vki < 30:\n",
    "            return 2000\n",
    "        elif self.vki < 40:\n",
    "            return 1500\n",
    "        else:\n",
    "            return 1000\n",
    "\n",
    "kullanicilar = []\n",
    "for i in range(1):\n",
    "    isim = input(\"İsim ve soyisim: \")\n",
    "    yas = int(input(\"Yaş: \"))\n",
    "    boy = float(input(\"Boy (metre cinsinden): \"))\n",
    "    kilo = float(input(\"Kilo: \"))\n",
    "    kullanici = Kullanici(isim, yas, boy, kilo)\n",
    "    kullanicilar.append(kullanici)\n",
    "\n",
    "print(f\"{kullanici.isim} adlı kullanıcının VKİ değeri: {kullanici.vki:.2f}\")\n",
    "print(f\"Sınıfı: {kullanici.kategori}\")\n",
    "print(f\"Günlük alması gereken kalori miktarı: {kullanici.günlük_kalori}\")\n"
   ]
  },
  {
   "cell_type": "code",
   "execution_count": null,
   "metadata": {},
   "outputs": [],
   "source": []
  }
 ],
 "metadata": {
  "kernelspec": {
   "display_name": "Python 3",
   "language": "python",
   "name": "python3"
  },
  "language_info": {
   "codemirror_mode": {
    "name": "ipython",
    "version": 3
   },
   "file_extension": ".py",
   "mimetype": "text/x-python",
   "name": "python",
   "nbconvert_exporter": "python",
   "pygments_lexer": "ipython3",
   "version": "3.11.1"
  },
  "orig_nbformat": 4
 },
 "nbformat": 4,
 "nbformat_minor": 2
}
